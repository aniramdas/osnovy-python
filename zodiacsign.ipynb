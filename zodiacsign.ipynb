{
 "cells": [
  {
   "cell_type": "code",
   "execution_count": 1,
   "metadata": {},
   "outputs": [
    {
     "name": "stdout",
     "output_type": "stream",
     "text": [
      "знак зодиака: рак\n"
     ]
    }
   ],
   "source": [
    "date = 10\n",
    "month = 7\n",
    "if (date>=21 and date<=31 and month==1) or (month==2 and date>=1 and date<=18):\n",
    "    print('знак зодиака: водолей')\n",
    "elif (date>=19 and date<=29 and month==2) or (month==3 and date>=1 and date<=20):\n",
    "    print('знак зодиака: рыбы')\n",
    "elif (date>=21 and date<=31 and month==3) or (month==4 and date>=1 and date<=19):\n",
    "    print('знак зодиака: овен')\n",
    "elif (date>=20 and date<=30 and month==4) or (month==5 and date>=1 and date<=20):\n",
    "    print('знак зодиака: телец')\n",
    "elif (date>=21 and date<=31 and month==5) or (month==6 and date>=1 and date<=21):\n",
    "    print('знак зодиака: близнецы')\n",
    "elif (date>=22 and date<=30 and month==6) or (month==7 and date>=1 and date<=22):\n",
    "    print('знак зодиака: рак')\n",
    "elif (date>=23 and date<=31 and month==7) or (month==8 and date>=1 and date<=22):\n",
    "    print('знак зодиака: лев')\n",
    "elif (date>=23 and date<=31 and month==8) or (month==9 and date>=1 and date<=22):\n",
    "    print('знак зодиака: дева')\n",
    "elif (date>=23 and date<=30 and month==9) or (month==10 and date>=1 and date<=23):\n",
    "    print('знак зодиака: весы')\n",
    "elif (date>=24 and date<=31 and month==10) or (month==11 and date>=1 and date<=22):\n",
    "    print('знак зодиака: скорпион')\n",
    "elif (date>=23 and date<=30 and month==11) or (month==12 and date>=1 and date<=21):\n",
    "    print('знак зодиака: стрелец')\n",
    "elif (date>=22 and date<=31 and month==12) or (month==1 and date>=1 and date<=20):\n",
    "    print('знак зодиака: козерог')"
   ]
  },
  {
   "cell_type": "code",
   "execution_count": 2,
   "metadata": {},
   "outputs": [
    {
     "name": "stdout",
     "output_type": "stream",
     "text": [
      "знак зодиака: весы\n"
     ]
    }
   ],
   "source": [
    "date = 19\n",
    "month = 10\n",
    "if (date>=21 and date<=31 and month==1) or (month==2 and date>=1 and date<=18):\n",
    "    print('знак зодиака: водолей')\n",
    "elif (date>=19 and date<=29 and month==2) or (month==3 and date>=1 and date<=20):\n",
    "    print('знак зодиака: рыбы')\n",
    "elif (date>=21 and date<=31 and month==3) or (month==4 and date>=1 and date<=19):\n",
    "    print('знак зодиака: овен')\n",
    "elif (date>=20 and date<=30 and month==4) or (month==5 and date>=1 and date<=20):\n",
    "    print('знак зодиака: телец')\n",
    "elif (date>=21 and date<=31 and month==5) or (month==6 and date>=1 and date<=21):\n",
    "    print('знак зодиака: близнецы')\n",
    "elif (date>=22 and date<=30 and month==6) or (month==7 and date>=1 and date<=22):\n",
    "    print('знак зодиака: рак')\n",
    "elif (date>=23 and date<=31 and month==7) or (month==8 and date>=1 and date<=22):\n",
    "    print('знак зодиака: лев')\n",
    "elif (date>=23 and date<=31 and month==8) or (month==9 and date>=1 and date<=22):\n",
    "    print('знак зодиака: дева')\n",
    "elif (date>=23 and date<=30 and month==9) or (month==10 and date>=1 and date<=23):\n",
    "    print('знак зодиака: весы')\n",
    "elif (date>=24 and date<=31 and month==10) or (month==11 and date>=1 and date<=22):\n",
    "    print('знак зодиака: скорпион')\n",
    "elif (date>=23 and date<=30 and month==11) or (month==12 and date>=1 and date<=21):\n",
    "    print('знак зодиака: стрелец')\n",
    "elif (date>=22 and date<=31 and month==12) or (month==1 and date>=1 and date<=20):\n",
    "    print('знак зодиака: козерог')"
   ]
  },
  {
   "cell_type": "code",
   "execution_count": null,
   "metadata": {},
   "outputs": [],
   "source": []
  }
 ],
 "metadata": {
  "kernelspec": {
   "display_name": "Python 3",
   "language": "python",
   "name": "python3"
  },
  "language_info": {
   "codemirror_mode": {
    "name": "ipython",
    "version": 3
   },
   "file_extension": ".py",
   "mimetype": "text/x-python",
   "name": "python",
   "nbconvert_exporter": "python",
   "pygments_lexer": "ipython3",
   "version": "3.8.5"
  }
 },
 "nbformat": 4,
 "nbformat_minor": 4
}