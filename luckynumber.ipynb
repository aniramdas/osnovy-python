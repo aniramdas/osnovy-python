{
 "cells": [
  {
   "cell_type": "code",
   "execution_count": 4,
   "metadata": {},
   "outputs": [
    {
     "name": "stdout",
     "output_type": "stream",
     "text": [
      "123321\n",
      "счастливый билет\n"
     ]
    }
   ],
   "source": [
    "number = int(input())\n",
    "number1 = int(number/100000)\n",
    "number2 = int((float(number/100000) - number1)* 10)\n",
    "number3 = int((float(number/10000) - int(number/10000))*10)\n",
    "number4 = int((float(number/1000) - int(number/1000))*10)\n",
    "number5 = int((float(number/100) - int(number/100))*10)\n",
    "number6 = int((float(number/10) - int(number/10))*10)\n",
    "if (number1 + number2 + number3) == (number4 + number5 + number6):\n",
    "    print('счастливый билет')\n",
    "else:\n",
    "    print('обычный билет')"
   ]
  },
  {
   "cell_type": "code",
   "execution_count": 5,
   "metadata": {},
   "outputs": [
    {
     "name": "stdout",
     "output_type": "stream",
     "text": [
      "100702\n",
      "обычный билет\n"
     ]
    }
   ],
   "source": [
    "number = int(input())\n",
    "number1 = int(number/100000)\n",
    "number2 = int((float(number/100000) - number1)* 10)\n",
    "number3 = int((float(number/10000) - int(number/10000))*10)\n",
    "number4 = int((float(number/1000) - int(number/1000))*10)\n",
    "number5 = int((float(number/100) - int(number/100))*10)\n",
    "number6 = int((float(number/10) - int(number/10))*10)\n",
    "if (number1 + number2 + number3) == (number4 + number5 + number6):\n",
    "    print('счастливый билет')\n",
    "else:\n",
    "    print('обычный билет')"
   ]
  }
 ],
 "metadata": {
  "kernelspec": {
   "display_name": "Python 3",
   "language": "python",
   "name": "python3"
  },
  "language_info": {
   "codemirror_mode": {
    "name": "ipython",
    "version": 3
   },
   "file_extension": ".py",
   "mimetype": "text/x-python",
   "name": "python",
   "nbconvert_exporter": "python",
   "pygments_lexer": "ipython3",
   "version": "3.8.5"
  }
 },
 "nbformat": 4,
 "nbformat_minor": 4
}
