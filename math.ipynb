{
 "cells": [
  {
   "cell_type": "code",
   "execution_count": 1,
   "metadata": {},
   "outputs": [
    {
     "name": "stdout",
     "output_type": "stream",
     "text": [
      "название фигуры:круг\n",
      "радиус r =6\n",
      "113.09733552923255\n"
     ]
    }
   ],
   "source": [
    "import math\n",
    "\n",
    "tip = str(input(\"название фигуры:\"))\n",
    "if tip == \"круг\":       \n",
    "    r = float(input(\"радиус r =\"))       \n",
    "    s = math.pi * (r**2)\n",
    "elif tip == \"треугольник\":\n",
    "    a = float(input(\"сторона a =\"))       \n",
    "    b = float(input(\"сторона b =\"))       \n",
    "    c = float(input(\"сторона c =\"))\n",
    "    p = (a + b + c) / 2\n",
    "    s = math.sqrt((p * (p - a) * (p - b) * (p - c)))\n",
    "elif tip == \"прямоугольник\":       \n",
    "    a = float(input(\"сторона a =\"))       \n",
    "    b = float(input(\"сторона b =\"))       \n",
    "    s = a * b\n",
    "print(s)"
   ]
  },
  {
   "cell_type": "code",
   "execution_count": null,
   "metadata": {},
   "outputs": [],
   "source": []
  }
 ],
 "metadata": {
  "kernelspec": {
   "display_name": "Python 3",
   "language": "python",
   "name": "python3"
  },
  "language_info": {
   "codemirror_mode": {
    "name": "ipython",
    "version": 3
   },
   "file_extension": ".py",
   "mimetype": "text/x-python",
   "name": "python",
   "nbconvert_exporter": "python",
   "pygments_lexer": "ipython3",
   "version": "3.8.5"
  }
 },
 "nbformat": 4,
 "nbformat_minor": 4
}
