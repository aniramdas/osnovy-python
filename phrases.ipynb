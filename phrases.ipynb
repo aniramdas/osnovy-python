{
 "cells": [
  {
   "cell_type": "code",
   "execution_count": 1,
   "metadata": {},
   "outputs": [
    {
     "name": "stdout",
     "output_type": "stream",
     "text": [
      "вторая фраза длиннее первой\n"
     ]
    }
   ],
   "source": [
    "my_phrase1 = 'привет, меня зовут Марина'\n",
    "my_phrase2 = 'привет, я Марина, а не Мария'\n",
    "if my_phrase1 > my_phrase2:\n",
    "    print('первая фраза длиннее второй')\n",
    "elif my_phrase1 < my_phrase2:\n",
    "    print('вторая фраза длиннее первой')\n",
    "elif my_phrase1 == my_phrase2:\n",
    "    print('фразы одинаковой длины')"
   ]
  },
  {
   "cell_type": "code",
   "execution_count": 2,
   "metadata": {},
   "outputs": [
    {
     "name": "stdout",
     "output_type": "stream",
     "text": [
      "фразы одинаковой длины\n"
     ]
    }
   ],
   "source": [
    "my_phrase1 = 'привет, меня зовут Марина'\n",
    "my_phrase2 = 'привет, меня зовут Марина'\n",
    "if my_phrase1 > my_phrase2:\n",
    "    print('первая фраза длиннее второй')\n",
    "elif my_phrase1 < my_phrase2:\n",
    "    print('вторая фраза длиннее первой')\n",
    "elif my_phrase1 == my_phrase2:\n",
    "    print('фразы одинаковой длины')"
   ]
  },
  {
   "cell_type": "code",
   "execution_count": 3,
   "metadata": {},
   "outputs": [
    {
     "name": "stdout",
     "output_type": "stream",
     "text": [
      "первая фраза длиннее второй\n"
     ]
    }
   ],
   "source": [
    "my_phrase1 = 'привет, я Марина, а не Мария'\n",
    "my_phrase2 = 'привет, меня зовут Марина'\n",
    "if my_phrase1 > my_phrase2:\n",
    "    print('первая фраза длиннее второй')\n",
    "elif my_phrase1 < my_phrase2:\n",
    "    print('вторая фраза длиннее первой')\n",
    "elif my_phrase1 == my_phrase2:\n",
    "    print('фразы одинаковой длины')"
   ]
  },
  {
   "cell_type": "code",
   "execution_count": null,
   "metadata": {},
   "outputs": [],
   "source": []
  }
 ],
 "metadata": {
  "kernelspec": {
   "display_name": "Python 3",
   "language": "python",
   "name": "python3"
  },
  "language_info": {
   "codemirror_mode": {
    "name": "ipython",
    "version": 3
   },
   "file_extension": ".py",
   "mimetype": "text/x-python",
   "name": "python",
   "nbconvert_exporter": "python",
   "pygments_lexer": "ipython3",
   "version": "3.8.5"
  }
 },
 "nbformat": 4,
 "nbformat_minor": 4
}
