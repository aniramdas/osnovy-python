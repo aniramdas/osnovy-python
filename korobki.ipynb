{
 "cells": [
  {
   "cell_type": "code",
   "execution_count": 5,
   "metadata": {},
   "outputs": [
    {
     "name": "stdout",
     "output_type": "stream",
     "text": [
      "стандартная коробка №3\n"
     ]
    }
   ],
   "source": [
    "width = 70\n",
    "lenght = 70\n",
    "height = 70\n",
    "\n",
    "if lenght >= 200:\n",
    "    print('упаковка для лыж')\n",
    "elif width <= 15 and lenght <= 15 and height <= 15:\n",
    "    print('коробка №1')\n",
    "elif (width >= 15 and width <= 50) or (lenght >= 15 and lenght <= 50) or (height >= 15 and height <= 50):\n",
    "    print('коробка №2')\n",
    "else:\n",
    "    print('стандартная коробка №3')"
   ]
  },
  {
   "cell_type": "code",
   "execution_count": 6,
   "metadata": {},
   "outputs": [
    {
     "name": "stdout",
     "output_type": "stream",
     "text": [
      "коробка №2\n"
     ]
    }
   ],
   "source": [
    "width = 10\n",
    "lenght = 25\n",
    "height = 20\n",
    "\n",
    "if lenght >= 200:\n",
    "    print('упаковка для лыж')\n",
    "elif width <= 15 and lenght <= 15 and height <= 15:\n",
    "    print('коробка №1')\n",
    "elif (width >= 15 and width <= 50) or (lenght >= 15 and lenght <= 50) or (height >= 15 and height <= 50):\n",
    "    print('коробка №2')\n",
    "else:\n",
    "    print('стандартная коробка №3')"
   ]
  },
  {
   "cell_type": "code",
   "execution_count": 3,
   "metadata": {},
   "outputs": [
    {
     "name": "stdout",
     "output_type": "stream",
     "text": [
      "коробка №1\n"
     ]
    }
   ],
   "source": [
    "width = 7\n",
    "lenght = 7\n",
    "height = 7\n",
    "\n",
    "if lenght >= 200:\n",
    "    print('упаковка для лыж')\n",
    "elif width <= 15 and lenght <= 15 and height <= 15:\n",
    "    print('коробка №1')\n",
    "elif (width >= 15 and width <= 50) or (lenght >= 15 and lenght <= 50) or (height >= 15 and height <= 50):\n",
    "    print('коробка №2')\n",
    "else:\n",
    "    print('старндартная коробка №3')"
   ]
  },
  {
   "cell_type": "code",
   "execution_count": 4,
   "metadata": {},
   "outputs": [
    {
     "name": "stdout",
     "output_type": "stream",
     "text": [
      "упаковка для лыж\n"
     ]
    }
   ],
   "source": [
    "width = 50\n",
    "lenght = 250\n",
    "height = 50\n",
    "\n",
    "if lenght >= 200:\n",
    "    print('упаковка для лыж')\n",
    "elif width <= 15 and lenght <= 15 and height <= 15:\n",
    "    print('коробка №1')\n",
    "elif (width >= 15 and width <= 50) or (lenght >= 15 and lenght <= 50) or (height >= 15 and height <= 50):\n",
    "    print('коробка №2')\n",
    "else:\n",
    "    print('старндартная коробка №3')"
   ]
  }
 ],
 "metadata": {
  "kernelspec": {
   "display_name": "Python 3",
   "language": "python",
   "name": "python3"
  },
  "language_info": {
   "codemirror_mode": {
    "name": "ipython",
    "version": 3
   },
   "file_extension": ".py",
   "mimetype": "text/x-python",
   "name": "python",
   "nbconvert_exporter": "python",
   "pygments_lexer": "ipython3",
   "version": "3.8.5"
  }
 },
 "nbformat": 4,
 "nbformat_minor": 4
}
